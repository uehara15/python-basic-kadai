{
 "cells": [
  {
   "cell_type": "code",
   "execution_count": null,
   "id": "2b9b95b1",
   "metadata": {},
   "outputs": [],
   "source": [
    "class Human:\n",
    "    def __init__(self, name, age):\n",
    "        self.name = name  # 名前\n",
    "        self.age = age    # 年齢\n",
    "\n",
    "    def printinfo(self):\n",
    "        print(f\"名前: {self.name}, 年齢: {self.age}\")\n",
    "\n",
    "# インスタンス作成\n",
    "person = Human(\"田中太郎\", 25)\n",
    "\n",
    "# メソッド呼び出し\n",
    "person.printinfo()"
   ]
  }
 ],
 "metadata": {
  "language_info": {
   "name": "python"
  }
 },
 "nbformat": 4,
 "nbformat_minor": 5
}
