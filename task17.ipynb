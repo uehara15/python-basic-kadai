{
 "cells": [
  {
   "cell_type": "code",
   "execution_count": null,
   "id": "c69a58da",
   "metadata": {},
   "outputs": [],
   "source": [
    "class Human:\n",
    "    def __init__(self, name, age):\n",
    "        self.name = name  # 名前\n",
    "        self.age = age    # 年齢\n",
    "\n",
    "    def check_adult(self):\n",
    "        if self.age >= 20:\n",
    "            print(f\"{self.name} さんは大人です。\")\n",
    "        else:\n",
    "            print(f\"{self.name} さんは大人ではありません。\")\n",
    "\n",
    "# 複数のインスタンスを生成\n",
    "humans = [\n",
    "    Human(\"田中太郎\", 25),\n",
    "    Human(\"山田花子\", 19),\n",
    "    Human(\"鈴木一郎\", 30)\n",
    "]\n",
    "\n",
    "# リストの要素数分だけ check_adult を呼び出し\n",
    "for person in humans:\n",
    "    person.check_adult()\n"
   ]
  }
 ],
 "metadata": {
  "language_info": {
   "name": "python"
  }
 },
 "nbformat": 4,
 "nbformat_minor": 5
}
